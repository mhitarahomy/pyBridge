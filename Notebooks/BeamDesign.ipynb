{
 "cells": [
  {
   "cell_type": "code",
   "execution_count": 62,
   "metadata": {
    "collapsed": true,
    "pycharm": {
     "name": "#%% Import Libraries\n"
    }
   },
   "outputs": [],
   "source": [
    "import numpy as np\n",
    "import sympy as sp\n",
    "import pandas as pd\n",
    "from IPython.display import display\n",
    "sp.init_printing(use_latex=\"mathjax\")"
   ]
  },
  {
   "cell_type": "code",
   "execution_count": 63,
   "outputs": [
    {
     "data": {
      "text/plain": "      Mᵤ₁\nMₙ₁ = ───\n      φ_f",
      "text/latex": "$\\displaystyle M_{n1} = \\frac{M_{u1}}{\\phi_{f}}$"
     },
     "metadata": {},
     "output_type": "display_data"
    },
    {
     "data": {
      "text/plain": "\"A_{s1} = \\\\frac{b_{1} \\\\beta_{1} d_{1} f'_{c} \\\\left(1 - 1.53392997769474 \\\\sqrt{- \\\\frac{M_{n1}}{b_{1} d_{1}^{2} f'_{c}} + 0.425}\\\\right)}{f_{y}}\""
     },
     "metadata": {},
     "output_type": "display_data"
    }
   ],
   "source": [
    "Mu1, Mu2, Mn1, Mn2 = sp.symbols(\"M_u1 M_u2 M_n1 M_n2\")\n",
    "phi_f = sp.symbols(\"phi_f\")\n",
    "beta1 = sp.symbols(\"beta_1\")\n",
    "fc, fy = sp.symbols(\"f'_c f_y\")\n",
    "b1, b2, d1, d2 = sp.symbols(\"b_1 b_2 d_1 d_2\")\n",
    "yt = sp.symbols(\"y_t\")\n",
    "As1 = sp.symbols(\"A_s1\")\n",
    "EqMn1 = sp.Eq(Mn1, Mu1/phi_f)\n",
    "EqAs1 = sp.Eq(As1, (beta1*fc*b1*d1/fy)*(1-sp.sqrt(1-(4*Mn1)/(1.7*fc*b1*d1**2))))\n",
    "display(EqMn1, EqAs1)\n",
    "# sp.Eq(Mn1,Mn1)"
   ],
   "metadata": {
    "collapsed": false,
    "pycharm": {
     "name": "#%% Define Symboles\n"
    }
   }
  },
  {
   "cell_type": "code",
   "execution_count": 64,
   "outputs": [],
   "source": [
    "Mu1 = 221 # t.m/m\n",
    "Mu2 = 423 # t.m/m\n",
    "phi_f = 0.9\n",
    "fc = 200 # kg/cm2\n",
    "fy = 4000 # kg/cm2\n",
    "b1 = 45 # cm\n",
    "d1 = 140 # cm\n",
    "b2 = 170 # cm\n",
    "d2 = 150 # cm\n",
    "yt = 90.77 # cm\n"
   ],
   "metadata": {
    "collapsed": false,
    "pycharm": {
     "name": "#%% Define Variables\n"
    }
   }
  }
 ],
 "metadata": {
  "kernelspec": {
   "display_name": "Python 3",
   "language": "python",
   "name": "python3"
  },
  "language_info": {
   "codemirror_mode": {
    "name": "ipython",
    "version": 2
   },
   "file_extension": ".py",
   "mimetype": "text/x-python",
   "name": "python",
   "nbconvert_exporter": "python",
   "pygments_lexer": "ipython2",
   "version": "2.7.6"
  }
 },
 "nbformat": 4,
 "nbformat_minor": 0
}